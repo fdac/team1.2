{
 "metadata": {
  "name": "",
  "signature": "sha256:cb946c2e62bedb93f773352ecbefb03b2d305c1918c59bca22eecee1dcc930a6"
 },
 "nbformat": 3,
 "nbformat_minor": 0,
 "worksheets": [
  {
   "cells": [
    {
     "cell_type": "code",
     "collapsed": false,
     "input": [
      "#Read and look at the variables\n",
      "x <- read.csv(\"prepR.r\",sep=';')\n",
      "summary(x)"
     ],
     "language": "python",
     "metadata": {},
     "outputs": [
      {
       "metadata": {},
       "output_type": "pyout",
       "prompt_number": 1,
       "text": [
        "                                 repo              nW          \n",
        " 000000brodie_public-testing       :     1   Min.   :   0.000  \n",
        " 000paradox000_master-details-final:     1   1st Qu.:   1.000  \n",
        " 000technofreak_training           :     1   Median :   1.000  \n",
        " 0022_mohsen                       :     1   Mean   :   1.355  \n",
        " 0077cc_deploytest                 :     1   3rd Qu.:   1.000  \n",
        " 0077cc_practical-django-projects  :     1   Max.   :1008.000  \n",
        " (Other)                           :416317                     \n",
        "      nFr               nPu                 nDe                 nAu          \n",
        " Min.   :   0.00   Min.   :  0.00000   Min.   :        0   Min.   :    0.00  \n",
        " 1st Qu.:   0.00   1st Qu.:  0.00000   1st Qu.:        9   1st Qu.:    1.00  \n",
        " Median :   0.00   Median :  0.00000   Median :       50   Median :    1.00  \n",
        " Mean   :   0.15   Mean   :  0.01244   Mean   :     3925   Mean   :   34.87  \n",
        " 3rd Qu.:   0.00   3rd Qu.:  0.00000   3rd Qu.:      270   3rd Qu.:    2.00  \n",
        " Max.   :5313.00   Max.   :145.00000   Max.   :100000001   Max.   :15186.00  \n",
        "                                                                             \n",
        "      nFi            vcs              Siz                 from          \n",
        " Min.   :0.00e+00   git:252042   Min.   :0.000e+00   Min.   :1.214e+09  \n",
        " 1st Qu.:5.00e+00   hg :164281   1st Qu.:3.901e+04   1st Qu.:1.347e+09  \n",
        " Median :2.50e+01                Median :2.684e+05   Median :1.377e+09  \n",
        " Mean   :9.68e+02                Mean   :1.662e+07   Mean   :1.365e+09  \n",
        " 3rd Qu.:1.19e+02                3rd Qu.:2.268e+06   3rd Qu.:1.396e+09  \n",
        " Max.   :1.00e+08                Max.   :2.184e+10   Max.   :1.412e+09  \n",
        "                                                                        \n",
        "       to                      u               nFl               nFd         \n",
        " Min.   :1.315e+09   mvj3_      :  1947   Min.   :  0.000   Min.   :  0.000  \n",
        " 1st Qu.:1.357e+09   pombredanne:   962   1st Qu.:  0.000   1st Qu.:  0.000  \n",
        " Median :1.384e+09   trac-hacks :   871   Median :  0.000   Median :  0.000  \n",
        " Mean   :1.378e+09   cyanogenmod:   653   Mean   :  1.984   Mean   :  1.177  \n",
        " 3rd Qu.:1.401e+09   chameleonos:   348   3rd Qu.:  1.000   3rd Qu.:  1.000  \n",
        " Max.   :1.412e+09   tobyink    :   342   Max.   :398.000   Max.   :131.000  \n",
        "                     (Other)    :411200                                      "
       ]
      }
     ],
     "prompt_number": 1
    },
    {
     "cell_type": "code",
     "collapsed": false,
     "input": [
      "#need transformation...\n",
      "#Fr: fork, W: watcher, Pu: PullRequest, De: delta, Au: Author, Fi: files, Siz: size\n",
      "#Fl: follower, Fd: followed, to: date to, from: data from\n",
      "#vcs: version control system\n",
      "tv <- cbind(log(x$nFr+1), log(x$nW+1), log(x$nPu+1), log(x$nDe+1), log(x$nAu+1), log(x$nFi+1), \n",
      "            log(x$Siz+1), log(x$nFl+1), log(x$nFd+1),log(x$to-x$from+1), x$from/3600/24/365.25+1970)\n",
      "\n",
      "tv <- data.frame(tv)\n",
      "names(tv) <- c(\"lnFr\",\"lnW\", \"lnPu\",\"lnDe\",\"lnAu\",\"lnFi\",\"lnSiz\",\"lnFl\",\"lnFd\",\"lnInt\",\"from\")\n",
      "summary(tv)"
     ],
     "language": "python",
     "metadata": {},
     "outputs": [
      {
       "metadata": {},
       "output_type": "pyout",
       "prompt_number": 2,
       "text": [
        "      lnFr              lnW              lnPu              lnDe       \n",
        " Min.   :0.00000   Min.   :0.0000   Min.   :0.00000   Min.   : 0.000  \n",
        " 1st Qu.:0.00000   1st Qu.:0.6931   1st Qu.:0.00000   1st Qu.: 2.303  \n",
        " Median :0.00000   Median :0.6931   Median :0.00000   Median : 3.932  \n",
        " Mean   :0.04837   Mean   :0.7425   Mean   :0.00676   Mean   : 4.077  \n",
        " 3rd Qu.:0.00000   3rd Qu.:0.6931   3rd Qu.:0.00000   3rd Qu.: 5.602  \n",
        " Max.   :8.57810   Max.   :6.9167   Max.   :4.98361   Max.   :18.421  \n",
        "      lnAu             lnFi            lnSiz            lnFl       \n",
        " Min.   :0.0000   Min.   : 0.000   Min.   : 0.00   Min.   :0.0000  \n",
        " 1st Qu.:0.6931   1st Qu.: 1.792   1st Qu.:10.57   1st Qu.:0.0000  \n",
        " Median :0.6931   Median : 3.258   Median :12.50   Median :0.0000  \n",
        " Mean   :1.1388   Mean   : 3.456   Mean   :12.61   Mean   :0.4658  \n",
        " 3rd Qu.:1.0986   3rd Qu.: 4.787   3rd Qu.:14.63   3rd Qu.:0.6931  \n",
        " Max.   :9.6282   Max.   :18.421   Max.   :23.81   Max.   :5.9890  \n",
        "      lnFd            lnInt             from     \n",
        " Min.   :0.0000   Min.   : 0.000   Min.   :2008  \n",
        " 1st Qu.:0.0000   1st Qu.: 4.654   1st Qu.:2013  \n",
        " Median :0.0000   Median :12.745   Median :2014  \n",
        " Mean   :0.3750   Mean   :10.353   Mean   :2013  \n",
        " 3rd Qu.:0.6931   3rd Qu.:16.449   3rd Qu.:2014  \n",
        " Max.   :4.8828   Max.   :19.067   Max.   :2015  "
       ]
      }
     ],
     "prompt_number": 2
    },
    {
     "cell_type": "code",
     "collapsed": false,
     "input": [
      "#better, lets see correlations\n",
      "options(digits=2)\n",
      "cor(tv,method=\"spearman\")"
     ],
     "language": "python",
     "metadata": {},
     "outputs": [
      {
       "metadata": {},
       "output_type": "pyout",
       "prompt_number": 3,
       "text": [
        "        lnFr     lnW     lnPu   lnDe   lnAu     lnFi    lnSiz     lnFl     lnFd\n",
        "lnFr   1.000  0.2702  0.26224  0.100  0.121  0.07994  0.05612  0.17830  0.05263\n",
        "lnW    0.270  1.0000  0.11311  0.067  0.050  0.06714  0.05297  0.22197  0.00880\n",
        "lnPu   0.262  0.1131  1.00000  0.045  0.071  0.03324  0.03551  0.06641  0.00082\n",
        "lnDe   0.100  0.0670  0.04471  1.000  0.691  0.96288  0.76946  0.06839  0.05216\n",
        "lnAu   0.121  0.0500  0.07116  0.691  1.000  0.60740  0.53535  0.10086  0.05970\n",
        "lnFi   0.080  0.0671  0.03324  0.963  0.607  1.00000  0.76628  0.04733  0.03808\n",
        "lnSiz  0.056  0.0530  0.03551  0.769  0.535  0.76628  1.00000  0.00086 -0.00098\n",
        "lnFl   0.178  0.2220  0.06641  0.068  0.101  0.04733  0.00086  1.00000  0.48337\n",
        "lnFd   0.053  0.0088  0.00082  0.052  0.060  0.03808 -0.00098  0.48337  1.00000\n",
        "lnInt  0.179  0.1827  0.06764  0.196  0.152  0.16530  0.08100  0.22483  0.09811\n",
        "from  -0.133 -0.0444 -0.01935 -0.032 -0.047 -0.00036  0.19166 -0.21446 -0.13622\n",
        "       lnInt     from\n",
        "lnFr   0.179 -0.13338\n",
        "lnW    0.183 -0.04445\n",
        "lnPu   0.068 -0.01935\n",
        "lnDe   0.196 -0.03228\n",
        "lnAu   0.152 -0.04661\n",
        "lnFi   0.165 -0.00036\n",
        "lnSiz  0.081  0.19166\n",
        "lnFl   0.225 -0.21446\n",
        "lnFd   0.098 -0.13622\n",
        "lnInt  1.000 -0.48678\n",
        "from  -0.487  1.00000"
       ]
      }
     ],
     "prompt_number": 3
    },
    {
     "cell_type": "code",
     "collapsed": false,
     "input": [
      "#delta correlated with number of files, size, authors: leave only delta in\n",
      "# the model predicting if repository will have a fork\n",
      "tvf <- tv; tvf$vcs=x$vcs; tvf$n=x$n; tvf$u=x$u;\n",
      "m <- glm(I(lnFr>0)~lnW+lnPu+lnDe+lnAu+lnFl+lnFd+lnInt+from+vcs,data=tvf)"
     ],
     "language": "python",
     "metadata": {},
     "outputs": [],
     "prompt_number": 4
    },
    {
     "cell_type": "code",
     "collapsed": false,
     "input": [
      "summary(m)\n",
      "#Watchers, pull reqs, delta, Authors, followers, interval, and Mercurial help having a fork\n",
      "#Following many and starting late hurt"
     ],
     "language": "python",
     "metadata": {},
     "outputs": [
      {
       "metadata": {},
       "output_type": "pyout",
       "prompt_number": 5,
       "text": [
        "\n",
        "Call:\n",
        "glm(formula = I(lnFr > 0) ~ lnW + lnPu + lnDe + lnAu + lnFl + \n",
        "    lnFd + lnInt + from + vcs, data = tvf)\n",
        "\n",
        "Deviance Residuals: \n",
        "    Min       1Q   Median       3Q      Max  \n",
        "-1.8736  -0.0574  -0.0262  -0.0049   1.1468  \n",
        "\n",
        "Coefficients:\n",
        "             Estimate Std. Error t value Pr(>|t|)    \n",
        "(Intercept)  2.15e+01   6.20e-01   34.72  < 2e-16 ***\n",
        "lnW          1.85e-01   9.40e-04  196.76  < 2e-16 ***\n",
        "lnPu         4.32e-01   3.88e-03  111.41  < 2e-16 ***\n",
        "lnDe         3.20e-03   1.63e-04   19.66  < 2e-16 ***\n",
        "lnAu         2.70e-03   3.59e-04    7.53  4.9e-14 ***\n",
        "lnFl         2.65e-02   4.71e-04   56.38  < 2e-16 ***\n",
        "lnFd        -4.05e-03   5.05e-04   -8.01  1.2e-15 ***\n",
        "lnInt        1.33e-03   5.29e-05   25.10  < 2e-16 ***\n",
        "from        -1.08e-02   3.08e-04  -34.95  < 2e-16 ***\n",
        "vcshg        3.55e-03   7.54e-04    4.71  2.5e-06 ***\n",
        "---\n",
        "Signif. codes:  0 \u2018***\u2019 0.001 \u2018**\u2019 0.01 \u2018*\u2019 0.05 \u2018.\u2019 0.1 \u2018 \u2019 1\n",
        "\n",
        "(Dispersion parameter for gaussian family taken to be 0.037)\n",
        "\n",
        "    Null deviance: 19221  on 416322  degrees of freedom\n",
        "Residual deviance: 15468  on 416313  degrees of freedom\n",
        "AIC: -189330\n",
        "\n",
        "Number of Fisher Scoring iterations: 2\n"
       ]
      }
     ],
     "prompt_number": 5
    },
    {
     "cell_type": "code",
     "collapsed": false,
     "input": [
      "anova(m)"
     ],
     "language": "python",
     "metadata": {},
     "outputs": [
      {
       "metadata": {},
       "output_type": "pyout",
       "prompt_number": 6,
       "text": [
        "Analysis of Deviance Table\n",
        "\n",
        "Model: gaussian, link: identity\n",
        "\n",
        "Response: I(lnFr > 0)\n",
        "\n",
        "Terms added sequentially (first to last)\n",
        "\n",
        "\n",
        "      Df Deviance Resid. Df Resid. Dev\n",
        "NULL                 416322      19221\n",
        "lnW    1     2784    416321      16436\n",
        "lnPu   1      504    416320      15933\n",
        "lnDe   1       78    416319      15855\n",
        "lnAu   1        1    416318      15854\n",
        "lnFl   1      227    416317      15628\n",
        "lnFd   1        2    416316      15626\n",
        "lnInt  1       88    416315      15537\n",
        "from   1       69    416314      15469\n",
        "vcs    1        1    416313      15468"
       ]
      }
     ],
     "prompt_number": 6
    },
    {
     "cell_type": "code",
     "collapsed": false,
     "input": [
      "#Seems like authors, followed, and vcs are not explaining much variance\n",
      "#drop them, having watchers and pull requests may be a consequence of a fork\n",
      "# also drop\n",
      "m1 <- glm(I(lnFr>0)~lnFl+lnInt+lnDe+lnFd+from,data=tvf)"
     ],
     "language": "python",
     "metadata": {},
     "outputs": [],
     "prompt_number": 7
    },
    {
     "cell_type": "code",
     "collapsed": false,
     "input": [
      "anova(m1)"
     ],
     "language": "python",
     "metadata": {},
     "outputs": [
      {
       "metadata": {},
       "output_type": "pyout",
       "prompt_number": 8,
       "text": [
        "Analysis of Deviance Table\n",
        "\n",
        "Model: gaussian, link: identity\n",
        "\n",
        "Response: I(lnFr > 0)\n",
        "\n",
        "Terms added sequentially (first to last)\n",
        "\n",
        "\n",
        "      Df Deviance Resid. Df Resid. Dev\n",
        "NULL                 416322      19221\n",
        "lnFl   1      908    416321      18313\n",
        "lnInt  1      264    416320      18049\n",
        "lnDe   1       68    416319      17981\n",
        "lnFd   1       58    416318      17923\n",
        "from   1       54    416317      17869"
       ]
      }
     ],
     "prompt_number": 8
    },
    {
     "cell_type": "code",
     "collapsed": false,
     "input": [
      "#Do followed still hurt?\n",
      "summary(m1)"
     ],
     "language": "python",
     "metadata": {},
     "outputs": [
      {
       "metadata": {},
       "output_type": "pyout",
       "prompt_number": 9,
       "text": [
        "\n",
        "Call:\n",
        "glm(formula = I(lnFr > 0) ~ lnFl + lnInt + lnDe + lnFd + from, \n",
        "    data = tvf)\n",
        "\n",
        "Deviance Residuals: \n",
        "    Min       1Q   Median       3Q      Max  \n",
        "-0.4454  -0.0677  -0.0333  -0.0044   1.0568  \n",
        "\n",
        "Coefficients:\n",
        "             Estimate Std. Error t value Pr(>|t|)    \n",
        "(Intercept)  2.04e+01   5.76e-01    35.4   <2e-16 ***\n",
        "lnFl         5.83e-02   4.85e-04   120.3   <2e-16 ***\n",
        "lnInt        2.63e-03   5.53e-05    47.5   <2e-16 ***\n",
        "lnDe         5.43e-03   1.26e-04    43.2   <2e-16 ***\n",
        "lnFd        -2.05e-02   5.38e-04   -38.1   <2e-16 ***\n",
        "from        -1.02e-02   2.86e-04   -35.5   <2e-16 ***\n",
        "---\n",
        "Signif. codes:  0 \u2018***\u2019 0.001 \u2018**\u2019 0.01 \u2018*\u2019 0.05 \u2018.\u2019 0.1 \u2018 \u2019 1\n",
        "\n",
        "(Dispersion parameter for gaussian family taken to be 0.043)\n",
        "\n",
        "    Null deviance: 19221  on 416322  degrees of freedom\n",
        "Residual deviance: 17869  on 416317  degrees of freedom\n",
        "AIC: -129268\n",
        "\n",
        "Number of Fisher Scoring iterations: 2\n"
       ]
      }
     ],
     "prompt_number": 9
    },
    {
     "cell_type": "code",
     "collapsed": false,
     "input": [
      "#Lets try to model number of forks (assuming one is already there)\n",
      "summary(tvf[tvf$lnFr>0,])"
     ],
     "language": "python",
     "metadata": {},
     "outputs": [
      {
       "metadata": {},
       "output_type": "pyout",
       "prompt_number": 10,
       "text": [
        "      lnFr          lnW           lnPu          lnDe           lnAu    \n",
        " Min.   :0.7   Min.   :0.0   Min.   :0.0   Min.   : 0.0   Min.   :0.0  \n",
        " 1st Qu.:0.7   1st Qu.:0.7   1st Qu.:0.0   1st Qu.: 3.5   1st Qu.:0.7  \n",
        " Median :0.7   Median :1.1   Median :0.0   Median : 4.9   Median :1.1  \n",
        " Mean   :1.0   Mean   :1.3   Mean   :0.1   Mean   : 5.2   Mean   :1.5  \n",
        " 3rd Qu.:1.1   3rd Qu.:1.6   3rd Qu.:0.0   3rd Qu.: 6.6   3rd Qu.:1.8  \n",
        " Max.   :8.6   Max.   :6.9   Max.   :5.0   Max.   :14.2   Max.   :9.6  \n",
        "                                                                       \n",
        "      lnFi          lnSiz           lnFl          lnFd         lnInt     \n",
        " Min.   : 0.0   Min.   : 0.0   Min.   :0.0   Min.   :0.0   Min.   : 0.0  \n",
        " 1st Qu.: 2.7   1st Qu.:11.4   1st Qu.:0.0   1st Qu.:0.0   1st Qu.:14.4  \n",
        " Median : 4.0   Median :13.3   Median :1.1   Median :0.0   Median :16.8  \n",
        " Mean   : 4.3   Mean   :13.4   Mean   :1.2   Mean   :0.6   Mean   :15.1  \n",
        " 3rd Qu.: 5.5   3rd Qu.:15.3   3rd Qu.:1.9   3rd Qu.:1.1   3rd Qu.:17.8  \n",
        " Max.   :12.8   Max.   :22.7   Max.   :6.0   Max.   :4.7   Max.   :19.1  \n",
        "                                                                         \n",
        "      from       vcs                      u        \n",
        " Min.   :2009   git: 7698   chamilo-archive:  181  \n",
        " 1st Qu.:2011   hg :12503   atlassian      :  141  \n",
        " Median :2013               chamilo        :  135  \n",
        " Mean   :2012               nrg            :   91  \n",
        " 3rd Qu.:2014               lindenlab      :   90  \n",
        " Max.   :2015               nantic         :   52  \n",
        "                            (Other)        :19511  "
       ]
      }
     ],
     "prompt_number": 10
    },
    {
     "cell_type": "code",
     "collapsed": false,
     "input": [
      "#Quite skewed, even after transformation\n",
      "hist(log(tvf[tvf$lnFr>0,\"lnFr\"]+1))"
     ],
     "language": "python",
     "metadata": {},
     "outputs": [
      {
       "metadata": {},
       "output_type": "display_data",
       "png": "[encoded data removed]"
      }
     ],
     "prompt_number": 11
    },
    {
     "cell_type": "code",
     "collapsed": false,
     "input": [
      "m2 <- lm(log(lnFr+1)~lnW+lnPu+lnDe+lnAu+lnFl+lnFd+lnInt+from+vcs,data=tvf,subs=tvf$lnFr>0)"
     ],
     "language": "python",
     "metadata": {},
     "outputs": [],
     "prompt_number": 12
    },
    {
     "cell_type": "code",
     "collapsed": false,
     "input": [
      "summary(m2)"
     ],
     "language": "python",
     "metadata": {},
     "outputs": [
      {
       "metadata": {},
       "output_type": "pyout",
       "prompt_number": 13,
       "text": [
        "\n",
        "Call:\n",
        "lm(formula = log(lnFr + 1) ~ lnW + lnPu + lnDe + lnAu + lnFl + \n",
        "    lnFd + lnInt + from + vcs, data = tvf, subset = tvf$lnFr > \n",
        "    0)\n",
        "\n",
        "Residuals:\n",
        "    Min      1Q  Median      3Q     Max \n",
        "-0.8926 -0.0935 -0.0216  0.0710  1.2275 \n",
        "\n",
        "Coefficients:\n",
        "             Estimate Std. Error t value Pr(>|t|)    \n",
        "(Intercept) -1.15e+01   2.18e+00   -5.26  1.4e-07 ***\n",
        "lnW          1.49e-01   1.69e-03   87.85  < 2e-16 ***\n",
        "lnPu         1.76e-01   4.20e-03   41.79  < 2e-16 ***\n",
        "lnDe        -4.05e-04   7.01e-04   -0.58   0.5631    \n",
        "lnAu         1.69e-02   1.53e-03   11.05  < 2e-16 ***\n",
        "lnFl         5.96e-03   1.14e-03    5.25  1.6e-07 ***\n",
        "lnFd        -1.95e-03   1.50e-03   -1.30   0.1926    \n",
        "lnInt        7.51e-04   3.31e-04    2.27   0.0234 *  \n",
        "from         5.90e-03   1.08e-03    5.46  4.8e-08 ***\n",
        "vcshg       -9.09e-03   2.96e-03   -3.07   0.0022 ** \n",
        "---\n",
        "Signif. codes:  0 \u2018***\u2019 0.001 \u2018**\u2019 0.01 \u2018*\u2019 0.05 \u2018.\u2019 0.1 \u2018 \u2019 1\n",
        "\n",
        "Residual standard error: 0.17 on 20191 degrees of freedom\n",
        "Multiple R-squared:  0.465,\tAdjusted R-squared:  0.465 \n",
        "F-statistic: 1.95e+03 on 9 and 20191 DF,  p-value: <2e-16\n"
       ]
      }
     ],
     "prompt_number": 13
    },
    {
     "cell_type": "code",
     "collapsed": false,
     "input": [
      "anova(m2)"
     ],
     "language": "python",
     "metadata": {},
     "outputs": [
      {
       "metadata": {},
       "output_type": "pyout",
       "prompt_number": 14,
       "text": [
        "Analysis of Variance Table\n",
        "\n",
        "Response: log(lnFr + 1)\n",
        "             Df Sum Sq Mean Sq  F value  Pr(>F)    \n",
        "lnW           1    433     433 15250.35 < 2e-16 ***\n",
        "lnPu          1     56      56  1991.48 < 2e-16 ***\n",
        "lnDe          1      2       2    87.61 < 2e-16 ***\n",
        "lnAu          1      4       4   131.32 < 2e-16 ***\n",
        "lnFl          1      0       0    15.94 6.6e-05 ***\n",
        "lnFd          1      0       0     4.62  0.0316 *  \n",
        "lnInt         1      0       0     0.82  0.3638    \n",
        "from          1      2       2    62.13 3.4e-15 ***\n",
        "vcs           1      0       0     9.41  0.0022 ** \n",
        "Residuals 20191    573       0                     \n",
        "---\n",
        "Signif. codes:  0 \u2018***\u2019 0.001 \u2018**\u2019 0.01 \u2018*\u2019 0.05 \u2018.\u2019 0.1 \u2018 \u2019 1"
       ]
      }
     ],
     "prompt_number": 14
    },
    {
     "cell_type": "code",
     "collapsed": false,
     "input": [],
     "language": "python",
     "metadata": {},
     "outputs": []
    },
    {
     "cell_type": "code",
     "collapsed": false,
     "input": [],
     "language": "python",
     "metadata": {},
     "outputs": []
    }
   ],
   "metadata": {}
  }
 ]
}