{
 "metadata": {
  "name": "",
  "signature": "sha256:8de32b110f99c8395296f2fc458d48cc0b79ab7627f161bce206ec1a449d2154"
 },
 "nbformat": 3,
 "nbformat_minor": 0,
 "worksheets": [
  {
   "cells": [
    {
     "cell_type": "code",
     "collapsed": false,
     "input": [
      "#Read and look at the variables\n",
      "#author commit quality: \n",
      "x <- read.csv(\"authorCommentQuality.r\",sep=';')\n",
      "summary(x)"
     ],
     "language": "python",
     "metadata": {},
     "outputs": [
      {
       "output_type": "stream",
       "stream": "stderr",
       "text": [
        "simpleWarning in scan(file, what, nmax, sep, dec, quote, skip, nlines, na.strings, : EOF within quoted string\n"
       ]
      },
      {
       "metadata": {},
       "output_type": "pyout",
       "prompt_number": 3,
       "text": [
        " a                                                      au        \n",
        " a:219755   Lasse Karstensen <lasse.karstensen@gmail.com>:     3  \n",
        "            Adam Coddington <me@adamcoddington.net>      :     2  \n",
        "            Adam Johnson <AdamJohnso@gmail.com>          :     2  \n",
        "            Adel Chepkunov <achepkunov@yandex.ru>        :     2  \n",
        "            Adrien Di Mascio <adim@logilab.fr>           :     2  \n",
        "            Alan Franzoni <username@franzoni.eu>         :     2  \n",
        "            (Other)                                      :219742  \n",
        "       uc              tc                ts         \n",
        " Min.   :    1   Min.   :      1   Min.   :      0  \n",
        " 1st Qu.:    1   1st Qu.:      3   1st Qu.:     59  \n",
        " Median :    4   Median :     10   Median :    201  \n",
        " Mean   :   55   Mean   :    794   Mean   :   4273  \n",
        " 3rd Qu.:   19   3rd Qu.:     51   3rd Qu.:    986  \n",
        " Max.   :42342   Max.   :4759304   Max.   :5515329  \n",
        " NA's   :1       NA's   :1         NA's   :1        "
       ]
      }
     ],
     "prompt_number": 3
    },
    {
     "cell_type": "code",
     "collapsed": false,
     "input": [
      "#need transformation...\n",
      "tv <- cbind(log(x$uc+1), log(x$tc+1), log(x$ts+1))\n",
      "\n",
      "tv <- data.frame(tv)\n",
      "names(tv) <- c(\"lnuc\",\"lntc\", \"lnts\")\n",
      "summary(tv)"
     ],
     "language": "python",
     "metadata": {},
     "outputs": [
      {
       "metadata": {},
       "output_type": "pyout",
       "prompt_number": 4,
       "text": [
        "      lnuc           lntc           lnts     \n",
        " Min.   : 0.7   Min.   : 0.7   Min.   : 0.0  \n",
        " 1st Qu.: 0.7   1st Qu.: 1.4   1st Qu.: 4.1  \n",
        " Median : 1.6   Median : 2.4   Median : 5.3  \n",
        " Mean   : 2.1   Mean   : 2.9   Mean   : 5.6  \n",
        " 3rd Qu.: 3.0   3rd Qu.: 4.0   3rd Qu.: 6.9  \n",
        " Max.   :10.7   Max.   :15.4   Max.   :15.5  \n",
        " NA's   :1      NA's   :1      NA's   :1     "
       ]
      }
     ],
     "prompt_number": 4
    },
    {
     "cell_type": "code",
     "collapsed": false,
     "input": [
      "#better, lets see correlations\n",
      "options(digits=2)\n",
      "#cor(tv,method=\"spearman\")\n",
      "cor(tv,method=\"kendall\")"
     ],
     "language": "python",
     "metadata": {},
     "outputs": [
      {
       "metadata": {},
       "output_type": "pyout",
       "prompt_number": 5,
       "text": [
        "     lnuc lntc lnts\n",
        "lnuc    1   NA   NA\n",
        "lntc   NA    1   NA\n",
        "lnts   NA   NA    1"
       ]
      }
     ],
     "prompt_number": 5
    },
    {
     "cell_type": "code",
     "collapsed": false,
     "input": [
      "#delta correlated with number of files, size, authors: leave only delta in\n",
      "# the model predicting if repository will have a fork\n",
      "tvf <- tv; tvf$vcs=x$vcs; tvf$n=x$n; tvf$u=x$u;\n",
      "m <- glm(I(lnFr>0)~lnW+lnPu+lnDe+lnAu+lnFl+lnFd+lnInt+from+vcs,data=tvf)"
     ],
     "language": "python",
     "metadata": {},
     "outputs": []
    },
    {
     "cell_type": "code",
     "collapsed": false,
     "input": [
      "summary(m)\n",
      "#Watchers, pull reqs, delta, Authors, followers, interval, and Mercurial help having a fork\n",
      "#Following many and starting late hurt"
     ],
     "language": "python",
     "metadata": {},
     "outputs": []
    },
    {
     "cell_type": "code",
     "collapsed": false,
     "input": [
      "anova(m)"
     ],
     "language": "python",
     "metadata": {},
     "outputs": []
    },
    {
     "cell_type": "code",
     "collapsed": false,
     "input": [
      "#Seems like authors, followed, and vcs are not explaining much variance\n",
      "#drop them, having watchers and pull requests may be a consequence of a fork\n",
      "# also drop\n",
      "m1 <- glm(I(lnFr>0)~lnFl+lnInt+lnDe+lnFd+from,data=tvf)"
     ],
     "language": "python",
     "metadata": {},
     "outputs": []
    },
    {
     "cell_type": "code",
     "collapsed": false,
     "input": [
      "anova(m1)"
     ],
     "language": "python",
     "metadata": {},
     "outputs": []
    },
    {
     "cell_type": "code",
     "collapsed": false,
     "input": [
      "#Do followed still hurt?\n",
      "summary(m1)"
     ],
     "language": "python",
     "metadata": {},
     "outputs": []
    },
    {
     "cell_type": "code",
     "collapsed": false,
     "input": [
      "#Lets try to model number of forks (assuming one is already there)\n",
      "summary(tvf[tvf$lnFr>0,])"
     ],
     "language": "python",
     "metadata": {},
     "outputs": []
    },
    {
     "cell_type": "code",
     "collapsed": false,
     "input": [
      "#Quite skewed, even after transformation\n",
      "hist(log(tvf[tvf$lnFr>0,\"lnFr\"]+1))"
     ],
     "language": "python",
     "metadata": {},
     "outputs": []
    },
    {
     "cell_type": "code",
     "collapsed": false,
     "input": [
      "m2 <- lm(log(lnFr+1)~lnW+lnPu+lnDe+lnAu+lnFl+lnFd+lnInt+from+vcs,data=tvf,subs=tvf$lnFr>0)"
     ],
     "language": "python",
     "metadata": {},
     "outputs": []
    },
    {
     "cell_type": "code",
     "collapsed": false,
     "input": [
      "summary(m2)"
     ],
     "language": "python",
     "metadata": {},
     "outputs": []
    },
    {
     "cell_type": "code",
     "collapsed": false,
     "input": [
      "anova(m2)"
     ],
     "language": "python",
     "metadata": {},
     "outputs": []
    },
    {
     "cell_type": "code",
     "collapsed": false,
     "input": [],
     "language": "python",
     "metadata": {},
     "outputs": []
    },
    {
     "cell_type": "code",
     "collapsed": false,
     "input": [],
     "language": "python",
     "metadata": {},
     "outputs": []
    }
   ],
   "metadata": {}
  }
 ]
}