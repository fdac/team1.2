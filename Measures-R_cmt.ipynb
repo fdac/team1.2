{
 "metadata": {
  "name": "",
  "signature": "sha256:692a4c11af3a2f4fb492ab6604e429c7aeb3eae156ab9137b4d3d1c4ed0dccbd"
 },
 "nbformat": 3,
 "nbformat_minor": 0,
 "worksheets": [
  {
   "cells": [
    {
     "cell_type": "code",
     "collapsed": false,
     "input": [
      "#Read and look at the variables\n",
      "#author commit quality: \n",
      "x <- read.csv(\"authorCommentQuality.r\",sep=';',quote = \"\")\n",
      "summary(x)"
     ],
     "language": "python",
     "metadata": {},
     "outputs": [
      {
       "metadata": {},
       "output_type": "pyout",
       "prompt_number": 7,
       "text": [
        " a                au               uc               tc         \n",
        " a:455136   <>     :     1   Min.   :     1   Min.   :      1  \n",
        "            =      :     1   1st Qu.:     1   1st Qu.:      3  \n",
        "            ==     :     1   Median :     4   Median :     10  \n",
        "            = <=>  :     1   Mean   :    55   Mean   :    771  \n",
        "            =]     :     1   3rd Qu.:    19   3rd Qu.:     50  \n",
        "            >_<    :     1   Max.   :243650   Max.   :4759304  \n",
        "            (Other):455130                                     \n",
        "       ts          \n",
        " Min.   :       0  \n",
        " 1st Qu.:      59  \n",
        " Median :     201  \n",
        " Mean   :    4399  \n",
        " 3rd Qu.:     986  \n",
        " Max.   :15156041  \n",
        "                   "
       ]
      }
     ],
     "prompt_number": 7
    },
    {
     "cell_type": "code",
     "collapsed": false,
     "input": [
      "#need transformation...\n",
      "tv <- cbind(log(x$uc+1), log(x$tc+1), log(x$ts+1))\n",
      "\n",
      "tv <- data.frame(tv)\n",
      "names(tv) <- c(\"lnuc\",\"lntc\", \"lnts\")\n",
      "summary(tv)"
     ],
     "language": "python",
     "metadata": {},
     "outputs": [
      {
       "metadata": {},
       "output_type": "pyout",
       "prompt_number": 8,
       "text": [
        "      lnuc           lntc           lnts     \n",
        " Min.   : 0.7   Min.   : 0.7   Min.   : 0.0  \n",
        " 1st Qu.: 0.7   1st Qu.: 1.4   1st Qu.: 4.1  \n",
        " Median : 1.6   Median : 2.4   Median : 5.3  \n",
        " Mean   : 2.1   Mean   : 2.9   Mean   : 5.6  \n",
        " 3rd Qu.: 3.0   3rd Qu.: 3.9   3rd Qu.: 6.9  \n",
        " Max.   :12.4   Max.   :15.4   Max.   :16.5  "
       ]
      }
     ],
     "prompt_number": 8
    },
    {
     "cell_type": "code",
     "collapsed": false,
     "input": [
      "#better, lets see correlations\n",
      "options(digits=2)\n",
      "cor(tv,method=\"spearman\")\n",
      "#cor(tv,method=\"kendall\")"
     ],
     "language": "python",
     "metadata": {},
     "outputs": [
      {
       "metadata": {},
       "output_type": "pyout",
       "prompt_number": 9,
       "text": [
        "     lnuc lntc lnts\n",
        "lnuc 1.00 0.80 0.89\n",
        "lntc 0.80 1.00 0.75\n",
        "lnts 0.89 0.75 1.00"
       ]
      }
     ],
     "prompt_number": 9
    },
    {
     "cell_type": "code",
     "collapsed": false,
     "input": [
      "#delta correlated with number of files, size, authors: leave only delta in\n",
      "# the model predicting if repository will have a fork\n",
      "tvf <- tv; tvf$vcs=x$vcs; tvf$n=x$n; tvf$u=x$u;\n",
      "m <- glm(I(lnFr>0)~lnW+lnPu+lnDe+lnAu+lnFl+lnFd+lnInt+from+vcs,data=tvf)"
     ],
     "language": "python",
     "metadata": {},
     "outputs": [
      {
       "ename": "ERROR",
       "evalue": "Error in unique(c(\"AsIs\", oldClass(x))): object 'lnFr' not found\n",
       "output_type": "pyerr",
       "traceback": [
        "Error in unique(c(\"AsIs\", oldClass(x))): object 'lnFr' not found\n"
       ]
      }
     ],
     "prompt_number": 10
    },
    {
     "cell_type": "code",
     "collapsed": false,
     "input": [
      "summary(m)\n",
      "#Watchers, pull reqs, delta, Authors, followers, interval, and Mercurial help having a fork\n",
      "#Following many and starting late hurt"
     ],
     "language": "python",
     "metadata": {},
     "outputs": []
    },
    {
     "cell_type": "code",
     "collapsed": false,
     "input": [
      "anova(m)"
     ],
     "language": "python",
     "metadata": {},
     "outputs": []
    },
    {
     "cell_type": "code",
     "collapsed": false,
     "input": [
      "#Seems like authors, followed, and vcs are not explaining much variance\n",
      "#drop them, having watchers and pull requests may be a consequence of a fork\n",
      "# also drop\n",
      "m1 <- glm(I(lnFr>0)~lnFl+lnInt+lnDe+lnFd+from,data=tvf)"
     ],
     "language": "python",
     "metadata": {},
     "outputs": []
    },
    {
     "cell_type": "code",
     "collapsed": false,
     "input": [
      "anova(m1)"
     ],
     "language": "python",
     "metadata": {},
     "outputs": []
    },
    {
     "cell_type": "code",
     "collapsed": false,
     "input": [
      "#Do followed still hurt?\n",
      "summary(m1)"
     ],
     "language": "python",
     "metadata": {},
     "outputs": []
    },
    {
     "cell_type": "code",
     "collapsed": false,
     "input": [
      "#Lets try to model number of forks (assuming one is already there)\n",
      "summary(tvf[tvf$lnFr>0,])"
     ],
     "language": "python",
     "metadata": {},
     "outputs": []
    },
    {
     "cell_type": "code",
     "collapsed": false,
     "input": [
      "#Quite skewed, even after transformation\n",
      "hist(log(tvf[tvf$lnFr>0,\"lnFr\"]+1))"
     ],
     "language": "python",
     "metadata": {},
     "outputs": []
    },
    {
     "cell_type": "code",
     "collapsed": false,
     "input": [
      "m2 <- lm(log(lnFr+1)~lnW+lnPu+lnDe+lnAu+lnFl+lnFd+lnInt+from+vcs,data=tvf,subs=tvf$lnFr>0)"
     ],
     "language": "python",
     "metadata": {},
     "outputs": []
    },
    {
     "cell_type": "code",
     "collapsed": false,
     "input": [
      "summary(m2)"
     ],
     "language": "python",
     "metadata": {},
     "outputs": []
    },
    {
     "cell_type": "code",
     "collapsed": false,
     "input": [
      "anova(m2)"
     ],
     "language": "python",
     "metadata": {},
     "outputs": []
    },
    {
     "cell_type": "code",
     "collapsed": false,
     "input": [],
     "language": "python",
     "metadata": {},
     "outputs": []
    },
    {
     "cell_type": "code",
     "collapsed": false,
     "input": [],
     "language": "python",
     "metadata": {},
     "outputs": []
    }
   ],
   "metadata": {}
  }
 ]
}