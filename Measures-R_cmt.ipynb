{
 "metadata": {
  "name": "",
  "signature": "sha256:d35906f7e74f2aed70df67198df71f32533539754598eb223be23f6da7b71ca8"
 },
 "nbformat": 3,
 "nbformat_minor": 0,
 "worksheets": [
  {
   "cells": [
    {
     "cell_type": "code",
     "collapsed": false,
     "input": [
      "#Read and look at the variables\n",
      "#author commit quality: \n",
      "x <- read.table(\"authorCommentQuality.r\",sep=';',header=F,comment.char=\"\",quote=\"\")\n",
      "#drop firs column \"a\"\n",
      "x <- x[,-1];\n",
      "names(x) <- c(\"login\",\"nuc\",\"ntc\",\"nts\");\n",
      "summary(x);"
     ],
     "language": "python",
     "metadata": {},
     "outputs": [
      {
       "metadata": {},
       "output_type": "pyout",
       "prompt_number": 1,
       "text": [
        "     login             nuc                 ntc               nts          \n",
        "        :     1   Min.   :     1.00   Min.   :      1   Min.   :       0  \n",
        " <>     :     1   1st Qu.:     1.00   1st Qu.:      3   1st Qu.:      59  \n",
        " =      :     1   Median :     4.00   Median :     10   Median :     201  \n",
        " ==     :     1   Mean   :    55.49   Mean   :    771   Mean   :    4400  \n",
        " = <=>  :     1   3rd Qu.:    19.00   3rd Qu.:     50   3rd Qu.:     986  \n",
        " =]     :     1   Max.   :243650.00   Max.   :4759304   Max.   :15156041  \n",
        " (Other):455131                                                           "
       ]
      }
     ],
     "prompt_number": 1
    },
    {
     "cell_type": "code",
     "collapsed": false,
     "input": [
      "#need transformation...\n",
      "tv <- cbind(log(x$nuc+1), log(x$ntc+1), log(x$nts+1));\n",
      "\n",
      "tv <- data.frame(tv);\n",
      "names(tv) <- c(\"lnuc\",\"lntc\", \"lnts\");\n",
      "row.names(tv) <- x$login;\n",
      "summary(tv);"
     ],
     "language": "python",
     "metadata": {},
     "outputs": [
      {
       "metadata": {},
       "output_type": "pyout",
       "prompt_number": 5,
       "text": [
        "      lnuc           lntc           lnts     \n",
        " Min.   : 0.7   Min.   : 0.7   Min.   : 0.0  \n",
        " 1st Qu.: 0.7   1st Qu.: 1.4   1st Qu.: 4.1  \n",
        " Median : 1.6   Median : 2.4   Median : 5.3  \n",
        " Mean   : 2.1   Mean   : 2.9   Mean   : 5.6  \n",
        " 3rd Qu.: 3.0   3rd Qu.: 3.9   3rd Qu.: 6.9  \n",
        " Max.   :12.4   Max.   :15.4   Max.   :16.5  "
       ]
      }
     ],
     "prompt_number": 5
    },
    {
     "cell_type": "code",
     "collapsed": false,
     "input": [
      "#better, lets see correlations\n",
      "options(digits=2)\n",
      "cor(tv,method=\"spearman\")\n",
      "#cor(tv,method=\"kendall\")"
     ],
     "language": "python",
     "metadata": {},
     "outputs": [
      {
       "metadata": {},
       "output_type": "pyout",
       "prompt_number": 3,
       "text": [
        "     lnuc lntc lnts\n",
        "lnuc 1.00 0.80 0.89\n",
        "lntc 0.80 1.00 0.75\n",
        "lnts 0.89 0.75 1.00"
       ]
      }
     ],
     "prompt_number": 3
    },
    {
     "cell_type": "code",
     "collapsed": false,
     "input": [
      "#delta correlated with number of files, size, authors: leave only delta in\n",
      "# the model predicting if repository will have a fork\n",
      "#Need to read in full data first\n",
      "x <- read.csv(\"prepR.r\",sep=';')\n",
      "tvf <- cbind(log(x$nFr+1), log(x$nW+1), log(x$nPu+1), log(x$nDe+1), log(x$nAu+1), log(x$nFi+1), \n",
      "            log(x$Siz+1), log(x$nFl+1), log(x$nFd+1),log(x$to-x$from+1), x$from/3600/24/365.25+1970)\n",
      "\n",
      "tvf <- data.frame(tvf)\n",
      "names(tvf) <- c(\"lnFr\",\"lnW\", \"lnPu\",\"lnDe\",\"lnAu\",\"lnFi\",\"lnSiz\",\"lnFl\",\"lnFd\",\"lnInt\",\"from\")\n",
      "sel <- match(x$u,row.names(tv))\n",
      "for (n in c(\"lnuc\",\"lntc\",\"lnts\")){\n",
      "  tvf[,n] <- rep(NA,dim(tvf)[1]);\n",
      "  tvf[!is.na(sel),n] <- tv[sel[!is.na(sel)],n];\n",
      "}\n",
      "tvf$vcs=x$vcs; tvf$n=x$n; tvf$u=x$u;\n",
      "m <- glm(I(lnFr>0)~lnW+lnPu+lnDe+lnAu+lnFl+lnFd+lnInt+from+vcs,data=tvf)"
     ],
     "language": "python",
     "metadata": {},
     "outputs": [],
     "prompt_number": 8
    },
    {
     "cell_type": "code",
     "collapsed": false,
     "input": [
      "summary(m)\n",
      "#Watchers, pull reqs, delta, Authors, followers, interval, and Mercurial help having a fork\n",
      "#Following many and starting late hurt"
     ],
     "language": "python",
     "metadata": {},
     "outputs": [
      {
       "metadata": {},
       "output_type": "pyout",
       "prompt_number": 9,
       "text": [
        "\n",
        "Call:\n",
        "glm(formula = I(lnFr > 0) ~ lnW + lnPu + lnDe + lnAu + lnFl + \n",
        "    lnFd + lnInt + from + vcs, data = tvf)\n",
        "\n",
        "Deviance Residuals: \n",
        "    Min       1Q   Median       3Q      Max  \n",
        "-1.8736  -0.0574  -0.0262  -0.0049   1.1468  \n",
        "\n",
        "Coefficients:\n",
        "             Estimate Std. Error t value Pr(>|t|)    \n",
        "(Intercept)  2.15e+01   6.20e-01   34.72  < 2e-16 ***\n",
        "lnW          1.85e-01   9.40e-04  196.76  < 2e-16 ***\n",
        "lnPu         4.32e-01   3.88e-03  111.41  < 2e-16 ***\n",
        "lnDe         3.20e-03   1.63e-04   19.66  < 2e-16 ***\n",
        "lnAu         2.70e-03   3.59e-04    7.53  4.9e-14 ***\n",
        "lnFl         2.65e-02   4.71e-04   56.38  < 2e-16 ***\n",
        "lnFd        -4.05e-03   5.05e-04   -8.01  1.2e-15 ***\n",
        "lnInt        1.33e-03   5.29e-05   25.10  < 2e-16 ***\n",
        "from        -1.08e-02   3.08e-04  -34.95  < 2e-16 ***\n",
        "vcshg        3.55e-03   7.54e-04    4.71  2.5e-06 ***\n",
        "---\n",
        "Signif. codes:  0 \u2018***\u2019 0.001 \u2018**\u2019 0.01 \u2018*\u2019 0.05 \u2018.\u2019 0.1 \u2018 \u2019 1\n",
        "\n",
        "(Dispersion parameter for gaussian family taken to be 0.037)\n",
        "\n",
        "    Null deviance: 19221  on 416322  degrees of freedom\n",
        "Residual deviance: 15468  on 416313  degrees of freedom\n",
        "AIC: -189330\n",
        "\n",
        "Number of Fisher Scoring iterations: 2\n"
       ]
      }
     ],
     "prompt_number": 9
    },
    {
     "cell_type": "code",
     "collapsed": false,
     "input": [
      "anova(m)"
     ],
     "language": "python",
     "metadata": {},
     "outputs": []
    },
    {
     "cell_type": "code",
     "collapsed": false,
     "input": [
      "#Seems like authors, followed, and vcs are not explaining much variance\n",
      "#drop them, having watchers and pull requests may be a consequence of a fork\n",
      "# also drop\n",
      "m1 <- glm(I(lnFr>0)~lnFl+lnInt+lnDe+lnFd+from,data=tvf)"
     ],
     "language": "python",
     "metadata": {},
     "outputs": []
    },
    {
     "cell_type": "code",
     "collapsed": false,
     "input": [
      "anova(m1)"
     ],
     "language": "python",
     "metadata": {},
     "outputs": []
    },
    {
     "cell_type": "code",
     "collapsed": false,
     "input": [
      "#Do followed still hurt?\n",
      "summary(m1)"
     ],
     "language": "python",
     "metadata": {},
     "outputs": []
    },
    {
     "cell_type": "code",
     "collapsed": false,
     "input": [
      "#Lets try to model number of forks (assuming one is already there)\n",
      "summary(tvf[tvf$lnFr>0,])"
     ],
     "language": "python",
     "metadata": {},
     "outputs": []
    },
    {
     "cell_type": "code",
     "collapsed": false,
     "input": [
      "#Quite skewed, even after transformation\n",
      "hist(log(tvf[tvf$lnFr>0,\"lnFr\"]+1))"
     ],
     "language": "python",
     "metadata": {},
     "outputs": []
    },
    {
     "cell_type": "code",
     "collapsed": false,
     "input": [
      "m2 <- lm(log(lnFr+1)~lnW+lnPu+lnDe+lnAu+lnFl+lnFd+lnInt+from+vcs,data=tvf,subs=tvf$lnFr>0)"
     ],
     "language": "python",
     "metadata": {},
     "outputs": []
    },
    {
     "cell_type": "code",
     "collapsed": false,
     "input": [
      "summary(m2)"
     ],
     "language": "python",
     "metadata": {},
     "outputs": []
    },
    {
     "cell_type": "code",
     "collapsed": false,
     "input": [
      "anova(m2)"
     ],
     "language": "python",
     "metadata": {},
     "outputs": []
    },
    {
     "cell_type": "code",
     "collapsed": false,
     "input": [],
     "language": "python",
     "metadata": {},
     "outputs": []
    },
    {
     "cell_type": "code",
     "collapsed": false,
     "input": [],
     "language": "python",
     "metadata": {},
     "outputs": []
    }
   ],
   "metadata": {}
  }
 ]
}