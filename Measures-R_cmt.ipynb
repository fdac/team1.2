{
 "metadata": {
  "name": "",
  "signature": "sha256:ab3f52eee1dd0e78bc06b1ac916b4f12498a799e4a8649f080f8e175168baa14"
 },
 "nbformat": 3,
 "nbformat_minor": 0,
 "worksheets": [
  {
   "cells": [
    {
     "cell_type": "code",
     "collapsed": false,
     "input": [
      "#Read and look at the variables\n",
      "#author commit quality: \n",
      "x <- read.csv(\"authorCommentQuality.r\",sep=';',quote = \"\")\n",
      "names(x) <- c(\"a\", \"Name\", \"nUC\", \"nTC\", \"Size\" )\n",
      "head(x)\n",
      "summary(x)\n",
      "y <- sum(x$nUC)\n",
      "z <- sum(x$nTC)\n",
      "y/z"
     ],
     "language": "python",
     "metadata": {},
     "outputs": [
      {
       "metadata": {},
       "output_type": "pyout",
       "prompt_number": 1,
       "text": [
        "  a                                             Name nUC nTC Size\n",
        "1 a                                           ILLICO  28  33 1155\n",
        "2 a                                       Alex Brett   1   1   68\n",
        "3 a                                           Mekire   3   4   65\n",
        "4 a                                           boncey   7  21  219\n",
        "5 a              Artem Vorotnikov <skybon@gmail.com>   2   6   94\n",
        "6 a Gustavo Arcanjo Silva <gustavoarcanjo@gmail.com>  17  17 1652"
       ]
      },
      {
       "metadata": {},
       "output_type": "pyout",
       "prompt_number": 1,
       "text": [
        " a               Name             nUC                 nTC         \n",
        " a:455136   <>     :     1   Min.   :     1.00   Min.   :      1  \n",
        "            =      :     1   1st Qu.:     1.00   1st Qu.:      3  \n",
        "            ==     :     1   Median :     4.00   Median :     10  \n",
        "            = <=>  :     1   Mean   :    55.48   Mean   :    771  \n",
        "            =]     :     1   3rd Qu.:    19.00   3rd Qu.:     50  \n",
        "            >_<    :     1   Max.   :243650.00   Max.   :4759304  \n",
        "            (Other):455130                                        \n",
        "      Size         \n",
        " Min.   :       0  \n",
        " 1st Qu.:      59  \n",
        " Median :     201  \n",
        " Mean   :    4399  \n",
        " 3rd Qu.:     986  \n",
        " Max.   :15156041  \n",
        "                   "
       ]
      },
      {
       "metadata": {},
       "output_type": "pyout",
       "prompt_number": 1,
       "text": [
        "[1] 0.07195629"
       ]
      }
     ],
     "prompt_number": 1
    },
    {
     "cell_type": "code",
     "collapsed": false,
     "input": [
      "#need transformation...\n",
      "tv <- cbind(log(x$nUC+1), log(x$nTC+1), log(x$Size+1))\n",
      "\n",
      "tv <- data.frame(tv)\n",
      "names(tv) <- c(\"lnUC\",\"lnTC\", \"lnSize\")\n",
      "head(tv)\n",
      "summary(tv)"
     ],
     "language": "python",
     "metadata": {},
     "outputs": [
      {
       "metadata": {},
       "output_type": "pyout",
       "prompt_number": 2,
       "text": [
        "       lnUC      lnTC   lnSize\n",
        "1 3.3672958 3.5263605 7.052721\n",
        "2 0.6931472 0.6931472 4.234107\n",
        "3 1.3862944 1.6094379 4.189655\n",
        "4 2.0794415 3.0910425 5.393628\n",
        "5 1.0986123 1.9459101 4.553877\n",
        "6 2.8903718 2.8903718 7.410347"
       ]
      },
      {
       "metadata": {},
       "output_type": "pyout",
       "prompt_number": 2,
       "text": [
        "      lnUC              lnTC             lnSize      \n",
        " Min.   : 0.6931   Min.   : 0.6931   Min.   : 0.000  \n",
        " 1st Qu.: 0.6931   1st Qu.: 1.3863   1st Qu.: 4.094  \n",
        " Median : 1.6094   Median : 2.3979   Median : 5.308  \n",
        " Mean   : 2.1328   Mean   : 2.8841   Mean   : 5.629  \n",
        " 3rd Qu.: 2.9957   3rd Qu.: 3.9318   3rd Qu.: 6.895  \n",
        " Max.   :12.4035   Max.   :15.3756   Max.   :16.534  "
       ]
      }
     ],
     "prompt_number": 2
    },
    {
     "cell_type": "code",
     "collapsed": false,
     "input": [
      "#better, lets see correlations\n",
      "options(digits=2)\n",
      "cor(tv,method=\"spearman\")\n",
      "#cor(tv,method=\"kendall\")"
     ],
     "language": "python",
     "metadata": {},
     "outputs": [
      {
       "metadata": {},
       "output_type": "pyout",
       "prompt_number": 5,
       "text": [
        "       lnUC lnTC lnSize\n",
        "lnUC   1.00 0.80   0.89\n",
        "lnTC   0.80 1.00   0.75\n",
        "lnSize 0.89 0.75   1.00"
       ]
      }
     ],
     "prompt_number": 5
    },
    {
     "cell_type": "code",
     "collapsed": false,
     "input": [
      "#delta correlated with number of commits, size\n",
      "# the model predicting if repository will have a unique commit\n",
      "tvf <- tv; tvf$nTC=x$nTC; tvf$Size=x$Size;\n",
      "#tvf <- tv; tvf$vcs=x$vcs; tvf$n=x$n; tvf$u=x$u;\n",
      "m <- glm(I(lnUC>0)~lnTC+lnSize,data=tvf)"
     ],
     "language": "python",
     "metadata": {},
     "outputs": [],
     "prompt_number": 7
    },
    {
     "cell_type": "code",
     "collapsed": false,
     "input": [
      "summary(m)\n",
      "#Watchers, pull reqs, delta, Authors, followers, interval, and Mercurial help having a fork\n",
      "#Following many and starting late hurt"
     ],
     "language": "python",
     "metadata": {},
     "outputs": [
      {
       "metadata": {},
       "output_type": "pyout",
       "prompt_number": 8,
       "text": [
        "\n",
        "Call:\n",
        "glm(formula = I(lnUC > 0) ~ lnTC + lnSize, data = tvf)\n",
        "\n",
        "Deviance Residuals: \n",
        "     Min        1Q    Median        3Q       Max  \n",
        "2.65e-12  2.66e-12  2.66e-12  2.67e-12  2.68e-12  \n",
        "\n",
        "Coefficients:\n",
        "             Estimate Std. Error   t value Pr(>|t|)    \n",
        "(Intercept)  1.00e+00   1.21e-14  8.29e+13   <2e-16 ***\n",
        "lnTC         8.58e-16   2.94e-15  2.90e-01     0.77    \n",
        "lnSize      -1.96e-15   2.87e-15 -6.80e-01     0.50    \n",
        "---\n",
        "Signif. codes:  0 \u2018***\u2019 0.001 \u2018**\u2019 0.01 \u2018*\u2019 0.05 \u2018.\u2019 0.1 \u2018 \u2019 1\n",
        "\n",
        "(Dispersion parameter for gaussian family taken to be 7.1e-24)\n",
        "\n",
        "    Null deviance: 0.0000e+00  on 455135  degrees of freedom\n",
        "Residual deviance: 3.2284e-18  on 455133  degrees of freedom\n",
        "AIC: -22968441\n",
        "\n",
        "Number of Fisher Scoring iterations: 1\n"
       ]
      }
     ],
     "prompt_number": 8
    },
    {
     "cell_type": "code",
     "collapsed": false,
     "input": [
      "anova(m)\n",
      "#Do followed still hurt?\n",
      "summary(m)\n",
      "#Lets try to model number of forks (assuming one is already there)\n",
      "summary(tvf[tvf$lnUC>0,])\n",
      "#Quite skewed, even after transformation\n",
      "hist(log(tvf[tvf$lnUC>0,\"lnUC\"]+1))\n"
     ],
     "language": "python",
     "metadata": {},
     "outputs": [
      {
       "metadata": {},
       "output_type": "pyout",
       "prompt_number": 10,
       "text": [
        "Analysis of Deviance Table\n",
        "\n",
        "Model: gaussian, link: identity\n",
        "\n",
        "Response: I(lnUC > 0)\n",
        "\n",
        "Terms added sequentially (first to last)\n",
        "\n",
        "\n",
        "       Df Deviance Resid. Df Resid. Dev\n",
        "NULL                  455135   0.00e+00\n",
        "lnTC    1        0    455134   3.23e-18\n",
        "lnSize  1        0    455133   3.23e-18"
       ]
      },
      {
       "metadata": {},
       "output_type": "pyout",
       "prompt_number": 10,
       "text": [
        "\n",
        "Call:\n",
        "glm(formula = I(lnUC > 0) ~ lnTC + lnSize, data = tvf)\n",
        "\n",
        "Deviance Residuals: \n",
        "     Min        1Q    Median        3Q       Max  \n",
        "2.65e-12  2.66e-12  2.66e-12  2.67e-12  2.68e-12  \n",
        "\n",
        "Coefficients:\n",
        "             Estimate Std. Error   t value Pr(>|t|)    \n",
        "(Intercept)  1.00e+00   1.21e-14  8.29e+13   <2e-16 ***\n",
        "lnTC         8.58e-16   2.94e-15  2.90e-01     0.77    \n",
        "lnSize      -1.96e-15   2.87e-15 -6.80e-01     0.50    \n",
        "---\n",
        "Signif. codes:  0 \u2018***\u2019 0.001 \u2018**\u2019 0.01 \u2018*\u2019 0.05 \u2018.\u2019 0.1 \u2018 \u2019 1\n",
        "\n",
        "(Dispersion parameter for gaussian family taken to be 7.1e-24)\n",
        "\n",
        "    Null deviance: 0.0000e+00  on 455135  degrees of freedom\n",
        "Residual deviance: 3.2284e-18  on 455133  degrees of freedom\n",
        "AIC: -22968441\n",
        "\n",
        "Number of Fisher Scoring iterations: 1\n"
       ]
      },
      {
       "metadata": {},
       "output_type": "pyout",
       "prompt_number": 10,
       "text": [
        "      lnUC           lnTC          lnSize          nTC         \n",
        " Min.   : 0.7   Min.   : 0.7   Min.   : 0.0   Min.   :      1  \n",
        " 1st Qu.: 0.7   1st Qu.: 1.4   1st Qu.: 4.1   1st Qu.:      3  \n",
        " Median : 1.6   Median : 2.4   Median : 5.3   Median :     10  \n",
        " Mean   : 2.1   Mean   : 2.9   Mean   : 5.6   Mean   :    771  \n",
        " 3rd Qu.: 3.0   3rd Qu.: 3.9   3rd Qu.: 6.9   3rd Qu.:     50  \n",
        " Max.   :12.4   Max.   :15.4   Max.   :16.5   Max.   :4759304  \n",
        "      Size         \n",
        " Min.   :       0  \n",
        " 1st Qu.:      59  \n",
        " Median :     201  \n",
        " Mean   :    4399  \n",
        " 3rd Qu.:     986  \n",
        " Max.   :15156041  "
       ]
      },
      {
       "metadata": {},
       "output_type": "display_data",
       "png": "[encoded data removed]"
      }
     ],
     "prompt_number": 10
    },
    {
     "cell_type": "code",
     "collapsed": false,
     "input": [
      "#Seems like authors, followed, and vcs are not explaining much variance\n",
      "#drop them, having watchers and pull requests may be a consequence of a fork\n",
      "# also drop\n",
      "m1 <- glm(I(lnFr>0)~lnFl+lnInt+lnDe+lnFd+from,data=tvf)"
     ],
     "language": "python",
     "metadata": {},
     "outputs": []
    },
    {
     "cell_type": "code",
     "collapsed": false,
     "input": [
      "anova(m1)"
     ],
     "language": "python",
     "metadata": {},
     "outputs": []
    },
    {
     "cell_type": "code",
     "collapsed": false,
     "input": [
      "#Do followed still hurt?\n",
      "summary(m1)"
     ],
     "language": "python",
     "metadata": {},
     "outputs": []
    },
    {
     "cell_type": "code",
     "collapsed": false,
     "input": [
      "#Lets try to model number of forks (assuming one is already there)\n",
      "summary(tvf[tvf$lnFr>0,])"
     ],
     "language": "python",
     "metadata": {},
     "outputs": []
    },
    {
     "cell_type": "code",
     "collapsed": false,
     "input": [
      "#Quite skewed, even after transformation\n",
      "hist(log(tvf[tvf$lnFr>0,\"lnFr\"]+1))"
     ],
     "language": "python",
     "metadata": {},
     "outputs": []
    },
    {
     "cell_type": "code",
     "collapsed": false,
     "input": [
      "m2 <- lm(log(lnFr+1)~lnW+lnPu+lnDe+lnAu+lnFl+lnFd+lnInt+from+vcs,data=tvf,subs=tvf$lnFr>0)"
     ],
     "language": "python",
     "metadata": {},
     "outputs": []
    },
    {
     "cell_type": "code",
     "collapsed": false,
     "input": [
      "summary(m2)"
     ],
     "language": "python",
     "metadata": {},
     "outputs": []
    },
    {
     "cell_type": "code",
     "collapsed": false,
     "input": [
      "anova(m2)"
     ],
     "language": "python",
     "metadata": {},
     "outputs": []
    }
   ],
   "metadata": {}
  }
 ]
}