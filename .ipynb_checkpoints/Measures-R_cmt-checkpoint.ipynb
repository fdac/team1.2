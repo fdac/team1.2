{
 "metadata": {
  "name": "",
  "signature": "sha256:b2de4753fa7b2f9714b410527aa8fff50eb8bffde6b2afe3685b806990dad728"
 },
 "nbformat": 3,
 "nbformat_minor": 0,
 "worksheets": [
  {
   "cells": [
    {
     "cell_type": "code",
     "collapsed": false,
     "input": [
      "#Read and look at the variables\n",
      "#author commit quality: \n",
      "x <- read.table(\"repoCommentQualityNew.r\",sep=';',header=F,comment.char=\"\",quote=\"\")\n",
      "#drop firs column \"a\"\n",
      "x <- x[,-1];\n",
      "\n",
      "# Labelling the columns headers\n",
      "names(x) <- c(\"repo\",\"nUC\",\"nTC\",\"Size\", \"p0\", \"p10\", \"p20\", \"p30\", \"p40\", \"p50\", \"p60\", \"p70\", \"p80\", \"p90\", \"p95\", \"p99\", \"p100\");\n",
      "\n",
      "# Calculating quality of comments and adding new columns nQC\n",
      "x[\"nQC\"] <- NA\n",
      "x$nQC <- x$nUC/x$nTC\n",
      "\n",
      "# remove stupid percentile\n",
      "y <- subset(x, select=c(\"repo\",\"nUC\",\"nTC\",\"Size\",\"nQC\"))\n",
      "\n",
      "# Getting other variable from prepR.r \n",
      "k <- read.csv(\"prepR.r\",sep=';')\n",
      "\n",
      "head(k);\n",
      "head(y);"
     ],
     "language": "python",
     "metadata": {},
     "outputs": [
      {
       "metadata": {},
       "output_type": "pyout",
       "prompt_number": 5,
       "text": [
        "                                repo nW nFr nPu   nDe nAu  nFi vcs     Siz\n",
        "1        000000brodie_public-testing  1   0   0     0   0    0  hg     551\n",
        "2 000paradox000_master-details-final  1   0   0    51   1   51 git  545924\n",
        "3            000technofreak_training  1   0   0   216   1  189 git 1157969\n",
        "4                        0022_mohsen  0   0   0 11503   3 5994  hg    1419\n",
        "5                  0077cc_deploytest  1   0   0     0   0    0 git     580\n",
        "6   0077cc_practical-django-projects  1   0   0   426   1  378  hg  590776\n",
        "        from         to              u nFl nFd\n",
        "1 1321070636 1344486180   000000brodie   0   0\n",
        "2 1385693899 1385709741  000paradox000   0   0\n",
        "3 1404394329 1409842731 000technofreak   0   0\n",
        "4 1309955660 1340680250           0022   0   0\n",
        "5 1374481548 1374481549         0077cc   0   0\n",
        "6 1353192760 1353192760         0077cc   0   0"
       ]
      },
      {
       "metadata": {},
       "output_type": "pyout",
       "prompt_number": 5,
       "text": [
        "                         repo nUC nTC  Size       nQC\n",
        "1 hfccwebdev_module_mysited2d   4   4   201 1.0000000\n",
        "2                  matija_ref  72  75  2121 0.9600000\n",
        "3          maodd_igloocommons  12  13   494 0.9230769\n",
        "4  navisitecad_oig-make-files  44  44  2023 1.0000000\n",
        "5        tausendeins_softwiki  11  15   249 0.7333333\n",
        "6                 jas43_aotus 259 267 20331 0.9700375"
       ]
      }
     ],
     "prompt_number": 5
    },
    {
     "cell_type": "code",
     "collapsed": false,
     "input": [
      "final <- merge(y,k, by.y = c(\"repo\"), by.k = c(\"repo\"))\n",
      "\n",
      "# remove stupid percentile\n",
      "final2 <- subset(final, select=c(\"repo\",\"Size\",\"nQC\", \"nW\", \"nFl\", \"nFd\", \"nFr\", \"from\", \"to\"))\n",
      "head(final2,20)\n"
     ],
     "language": "python",
     "metadata": {},
     "outputs": [
      {
       "metadata": {},
       "output_type": "pyout",
       "prompt_number": 7,
       "text": [
        "                               repo  Size       nQC nW nFl nFd nFr       from\n",
        "1           000technofreak_training   851 0.3250000  1   0   0   0 1404394329\n",
        "2                       0022_mohsen 44660 0.3217593  0   0   0   0 1309955660\n",
        "3  0077cc_practical-django-projects   280 0.3333333  1   0   0   0 1353192760\n",
        "4              00campbell_first_app    23 0.3333333  1   0   0   0 1383518120\n",
        "5                   00Davo_debomify    67 0.3333333  1   1   0   0 1372149932\n",
        "6                   00Davo_dotfiles 80952 0.3329977  2   1   0   0 1367650438\n",
        "7                     00Davo_hg-git 30309 0.3318352  1   1   0   0 1343022002\n",
        "8                  00Davo_hg-prompt  7224 0.3307087  1   1   0   0 1342878801\n",
        "9              00Davo_hgtip-content  4945 0.3267974  1   1   0   0 1343286302\n",
        "10                00dium_ospproject  4376 0.3333333  2   2   2   0 1380186511\n",
        "11  00firestar00_bitbucket-activity    38 0.3333333  1  12  21   0 1364796305\n",
        "12          00firestar00_calculator    21 0.3333333  1  12  21   0 1364364844\n",
        "13   00firestar00_csuci-android-app  1651 0.3333333  1  12  21   0 1380286195\n",
        "14      00firestar00_ejfirestar.com   200 0.3333333  1  12  21   0 1364802631\n",
        "15            00firestar00_project1  1329 0.3245614  2  12  21   0 1360309683\n",
        "16                    01000001_blog    63 0.3333333  1   0   0   0 1408667483\n",
        "17            0100354256_practica01    92 0.3333333  1   0   0   0 1411753262\n",
        "18  0100dev_whmcs-language-selector   470 0.3333333  1   3   0   0 1384486226\n",
        "19              01101101_tasty-fish    82 0.3333333  2   0   0   0 1392239325\n",
        "20             0110_c3ma-roomstatus   952 0.3333333  1   0   0   0 1298692283\n",
        "           to\n",
        "1  1409842731\n",
        "2  1340680250\n",
        "3  1353192760\n",
        "4  1383519464\n",
        "5  1372150154\n",
        "6  1411307894\n",
        "7  1343022072\n",
        "8  1343027570\n",
        "9  1343288045\n",
        "10 1382216740\n",
        "11 1364797110\n",
        "12 1364369820\n",
        "13 1398527866\n",
        "14 1392821772\n",
        "15 1362317383\n",
        "16 1411245558\n",
        "17 1411753334\n",
        "18 1397958782\n",
        "19 1392239886\n",
        "20 1391219237"
       ]
      }
     ],
     "prompt_number": 7
    },
    {
     "cell_type": "code",
     "collapsed": false,
     "input": [
      "#need transformation...\n",
      "tv <- cbind(log(x$nuc+1), log(x$ntc+1), log(x$nts+1));\n",
      "\n",
      "tv <- data.frame(tv);\n",
      "names(tv) <- c(\"lnuc\",\"lntc\", \"lnts\");\n",
      "row.names(tv) <- x$login;\n",
      "summary(tv);"
     ],
     "language": "python",
     "metadata": {},
     "outputs": [
      {
       "metadata": {},
       "output_type": "pyout",
       "prompt_number": 5,
       "text": [
        "      lnuc           lntc           lnts     \n",
        " Min.   : 0.7   Min.   : 0.7   Min.   : 0.0  \n",
        " 1st Qu.: 0.7   1st Qu.: 1.4   1st Qu.: 4.1  \n",
        " Median : 1.6   Median : 2.4   Median : 5.3  \n",
        " Mean   : 2.1   Mean   : 2.9   Mean   : 5.6  \n",
        " 3rd Qu.: 3.0   3rd Qu.: 3.9   3rd Qu.: 6.9  \n",
        " Max.   :12.4   Max.   :15.4   Max.   :16.5  "
       ]
      }
     ],
     "prompt_number": 5
    },
    {
     "cell_type": "code",
     "collapsed": false,
     "input": [
      "#better, lets see correlations\n",
      "options(digits=2)\n",
      "cor(tv,method=\"spearman\")\n",
      "#cor(tv,method=\"kendall\")"
     ],
     "language": "python",
     "metadata": {},
     "outputs": [
      {
       "metadata": {},
       "output_type": "pyout",
       "prompt_number": 3,
       "text": [
        "     lnuc lntc lnts\n",
        "lnuc 1.00 0.80 0.89\n",
        "lntc 0.80 1.00 0.75\n",
        "lnts 0.89 0.75 1.00"
       ]
      }
     ],
     "prompt_number": 3
    },
    {
     "cell_type": "code",
     "collapsed": false,
     "input": [
      "#delta correlated with number of files, size, authors: leave only delta in\n",
      "# the model predicting if repository will have a fork\n",
      "#Need to read in full data first\n",
      "x <- read.csv(\"prepR.r\",sep=';')\n",
      "tvf <- cbind(log(x$nFr+1), log(x$nW+1), log(x$nPu+1), log(x$nDe+1), log(x$nAu+1), log(x$nFi+1), \n",
      "            log(x$Siz+1), log(x$nFl+1), log(x$nFd+1),log(x$to-x$from+1), x$from/3600/24/365.25+1970)\n",
      "\n",
      "tvf <- data.frame(tvf)\n",
      "names(tvf) <- c(\"lnFr\",\"lnW\", \"lnPu\",\"lnDe\",\"lnAu\",\"lnFi\",\"lnSiz\",\"lnFl\",\"lnFd\",\"lnInt\",\"from\")\n",
      "sel <- match(x$u,row.names(tv))\n",
      "for (n in c(\"lnuc\",\"lntc\",\"lnts\")){\n",
      "  tvf[,n] <- rep(NA,dim(tvf)[1]);\n",
      "  tvf[!is.na(sel),n] <- tv[sel[!is.na(sel)],n];\n",
      "}\n",
      "tvf$vcs=x$vcs; tvf$n=x$n; tvf$u=x$u;\n",
      "m <- glm(I(lnFr>0)~lnW+lnPu+lnDe+lnAu+lnFl+lnFd+lnInt+from+vcs,data=tvf)"
     ],
     "language": "python",
     "metadata": {},
     "outputs": [],
     "prompt_number": 8
    },
    {
     "cell_type": "code",
     "collapsed": false,
     "input": [
      "summary(m)\n",
      "#Watchers, pull reqs, delta, Authors, followers, interval, and Mercurial help having a fork\n",
      "#Following many and starting late hurt"
     ],
     "language": "python",
     "metadata": {},
     "outputs": [
      {
       "metadata": {},
       "output_type": "pyout",
       "prompt_number": 9,
       "text": [
        "\n",
        "Call:\n",
        "glm(formula = I(lnFr > 0) ~ lnW + lnPu + lnDe + lnAu + lnFl + \n",
        "    lnFd + lnInt + from + vcs, data = tvf)\n",
        "\n",
        "Deviance Residuals: \n",
        "    Min       1Q   Median       3Q      Max  \n",
        "-1.8736  -0.0574  -0.0262  -0.0049   1.1468  \n",
        "\n",
        "Coefficients:\n",
        "             Estimate Std. Error t value Pr(>|t|)    \n",
        "(Intercept)  2.15e+01   6.20e-01   34.72  < 2e-16 ***\n",
        "lnW          1.85e-01   9.40e-04  196.76  < 2e-16 ***\n",
        "lnPu         4.32e-01   3.88e-03  111.41  < 2e-16 ***\n",
        "lnDe         3.20e-03   1.63e-04   19.66  < 2e-16 ***\n",
        "lnAu         2.70e-03   3.59e-04    7.53  4.9e-14 ***\n",
        "lnFl         2.65e-02   4.71e-04   56.38  < 2e-16 ***\n",
        "lnFd        -4.05e-03   5.05e-04   -8.01  1.2e-15 ***\n",
        "lnInt        1.33e-03   5.29e-05   25.10  < 2e-16 ***\n",
        "from        -1.08e-02   3.08e-04  -34.95  < 2e-16 ***\n",
        "vcshg        3.55e-03   7.54e-04    4.71  2.5e-06 ***\n",
        "---\n",
        "Signif. codes:  0 \u2018***\u2019 0.001 \u2018**\u2019 0.01 \u2018*\u2019 0.05 \u2018.\u2019 0.1 \u2018 \u2019 1\n",
        "\n",
        "(Dispersion parameter for gaussian family taken to be 0.037)\n",
        "\n",
        "    Null deviance: 19221  on 416322  degrees of freedom\n",
        "Residual deviance: 15468  on 416313  degrees of freedom\n",
        "AIC: -189330\n",
        "\n",
        "Number of Fisher Scoring iterations: 2\n"
       ]
      }
     ],
     "prompt_number": 9
    },
    {
     "cell_type": "code",
     "collapsed": false,
     "input": [
      "anova(m)"
     ],
     "language": "python",
     "metadata": {},
     "outputs": []
    },
    {
     "cell_type": "code",
     "collapsed": false,
     "input": [
      "#Seems like authors, followed, and vcs are not explaining much variance\n",
      "#drop them, having watchers and pull requests may be a consequence of a fork\n",
      "# also drop\n",
      "m1 <- glm(I(lnFr>0)~lnFl+lnInt+lnDe+lnFd+from,data=tvf)"
     ],
     "language": "python",
     "metadata": {},
     "outputs": []
    },
    {
     "cell_type": "code",
     "collapsed": false,
     "input": [
      "anova(m1)"
     ],
     "language": "python",
     "metadata": {},
     "outputs": []
    },
    {
     "cell_type": "code",
     "collapsed": false,
     "input": [
      "#Do followed still hurt?\n",
      "summary(m1)"
     ],
     "language": "python",
     "metadata": {},
     "outputs": []
    },
    {
     "cell_type": "code",
     "collapsed": false,
     "input": [
      "#Lets try to model number of forks (assuming one is already there)\n",
      "summary(tvf[tvf$lnFr>0,])"
     ],
     "language": "python",
     "metadata": {},
     "outputs": []
    },
    {
     "cell_type": "code",
     "collapsed": false,
     "input": [
      "#Quite skewed, even after transformation\n",
      "hist(log(tvf[tvf$lnFr>0,\"lnFr\"]+1))"
     ],
     "language": "python",
     "metadata": {},
     "outputs": []
    },
    {
     "cell_type": "code",
     "collapsed": false,
     "input": [
      "m2 <- lm(log(lnFr+1)~lnW+lnPu+lnDe+lnAu+lnFl+lnFd+lnInt+from+vcs,data=tvf,subs=tvf$lnFr>0)"
     ],
     "language": "python",
     "metadata": {},
     "outputs": []
    },
    {
     "cell_type": "code",
     "collapsed": false,
     "input": [
      "summary(m2)"
     ],
     "language": "python",
     "metadata": {},
     "outputs": []
    },
    {
     "cell_type": "code",
     "collapsed": false,
     "input": [
      "anova(m2)"
     ],
     "language": "python",
     "metadata": {},
     "outputs": []
    },
    {
     "cell_type": "code",
     "collapsed": false,
     "input": [],
     "language": "python",
     "metadata": {},
     "outputs": []
    },
    {
     "cell_type": "code",
     "collapsed": false,
     "input": [],
     "language": "python",
     "metadata": {},
     "outputs": []
    }
   ],
   "metadata": {}
  }
 ]
}