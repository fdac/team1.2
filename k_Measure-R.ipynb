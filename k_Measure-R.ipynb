{
 "metadata": {
  "name": "",
  "signature": "sha256:135c1a09de15e5fbf5d0f9f5ff1d64e3fb7c6601b1b8debb486d517a83152e99"
 },
 "nbformat": 3,
 "nbformat_minor": 0,
 "worksheets": [
  {
   "cells": [
    {
     "cell_type": "code",
     "collapsed": false,
     "input": [
      "#Read and look at the variables\n",
      "#author commit quality: \n",
      "x <- read.table(\"repoCommentQualityNew.r\",sep=';',header=F,comment.char=\"\",quote=\"\")\n",
      "#drop firs column \"a\"\n",
      "x <- x[,-1];\n",
      "\n",
      "# Labelling the columns headers\n",
      "names(x) <- c(\"repo\",\"nUC\",\"nTC\",\"Size\", \"p0\", \"p10\", \"p20\", \"p30\", \"p40\", \"p50\", \"p60\", \"p70\", \"p80\", \"p90\", \"p95\", \"p99\", \"p100\");\n",
      "\n",
      "# Calculating quality of comments and adding new columns nQC\n",
      "x[\"nQC\"] <- NA\n",
      "x$nQC <- x$nUC/x$nTC\n",
      "\n",
      "#remove all repos that have less than 10 commit comments\n",
      "x <- subset(x,nTC > 10)\n",
      "\n",
      "# remove percentile\n",
      "y <- subset(x, select=c(\"repo\",\"nUC\",\"nTC\",\"Size\",\"nQC\"))\n",
      "\n",
      "# Getting other variable from prepR.r \n",
      "k <- read.csv(\"prepR.r\",sep=';')\n",
      "\n",
      "head(k); #repoCommentQualityNew.r\n",
      "head(y); #prepR.r"
     ],
     "language": "python",
     "metadata": {},
     "outputs": [
      {
       "metadata": {},
       "output_type": "pyout",
       "prompt_number": 1,
       "text": [
        "                                repo nW nFr nPu   nDe nAu  nFi vcs     Siz\n",
        "1        000000brodie_public-testing  1   0   0     0   0    0  hg     551\n",
        "2 000paradox000_master-details-final  1   0   0    51   1   51 git  545924\n",
        "3            000technofreak_training  1   0   0   216   1  189 git 1157969\n",
        "4                        0022_mohsen  0   0   0 11503   3 5994  hg    1419\n",
        "5                  0077cc_deploytest  1   0   0     0   0    0 git     580\n",
        "6   0077cc_practical-django-projects  1   0   0   426   1  378  hg  590776\n",
        "        from         to              u nFl nFd\n",
        "1 1321070636 1344486180   000000brodie   0   0\n",
        "2 1385693899 1385709741  000paradox000   0   0\n",
        "3 1404394329 1409842731 000technofreak   0   0\n",
        "4 1309955660 1340680250           0022   0   0\n",
        "5 1374481548 1374481549         0077cc   0   0\n",
        "6 1353192760 1353192760         0077cc   0   0"
       ]
      },
      {
       "metadata": {},
       "output_type": "pyout",
       "prompt_number": 1,
       "text": [
        "                        repo nUC nTC  Size       nQC\n",
        "2                 matija_ref  72  75  2121 0.9600000\n",
        "3         maodd_igloocommons  12  13   494 0.9230769\n",
        "4 navisitecad_oig-make-files  44  44  2023 1.0000000\n",
        "5       tausendeins_softwiki  11  15   249 0.7333333\n",
        "6                jas43_aotus 259 267 20331 0.9700375\n",
        "7             Aswang_dot-vim   8  18   155 0.4444444"
       ]
      }
     ],
     "prompt_number": 1
    },
    {
     "cell_type": "code",
     "collapsed": false,
     "input": [
      "final <- merge(y,k, by.y = c(\"repo\"), by.k = c(\"repo\"));\n",
      "\n",
      "# remove percentile\n",
      "final2 <- subset(final, select=c(\"repo\", \"nQC\",\"Size\", \"nW\", \"nFl\", \"nFd\", \"nFr\",\"nDe\", \"to\", \"from\"));\n",
      "head(final2);\n",
      "\n",
      "\n",
      "#need transformation...\n",
      "tv <- cbind(log(final2$nQC+1), log(final2$Size+1), log(final2$nW+1), log(final2$nFl+1), log(final2$nFd+1), log(final2$nFr+1), \n",
      "            log(final2$nDe+1), log(final2$to-final2$from+1), final2$from/3600/24/365.25+1970);\n",
      "tv <- data.frame(tv);\n",
      "\n",
      "# name transformed columns\n",
      "names(tv) <- c(\"lnQC\", \"lnSize\", \"lnW\", \"lnFl\",\"lnFd\", \"lnFr\", \"lnDe\",\"lnInt\",\"from\");\n",
      "\n",
      "summary(tv);\n"
     ],
     "language": "python",
     "metadata": {},
     "outputs": [
      {
       "metadata": {},
       "output_type": "pyout",
       "prompt_number": 2,
       "text": [
        "                              repo       nQC  Size nW nFl nFd nFr   nDe\n",
        "1          000technofreak_training 0.3250000   851  1   0   0   0   216\n",
        "2                      0022_mohsen 0.3217593 44660  0   0   0   0 11503\n",
        "3 0077cc_practical-django-projects 0.3333333   280  1   0   0   0   426\n",
        "4                  00Davo_dotfiles 0.3329977 80952  2   1   0   0  1381\n",
        "5                    00Davo_hg-git 0.3318352 30309  1   1   0   0  1266\n",
        "6                 00Davo_hg-prompt 0.3307087  7224  1   1   0   0   200\n",
        "          to       from\n",
        "1 1409842731 1404394329\n",
        "2 1340680250 1309955660\n",
        "3 1353192760 1353192760\n",
        "4 1411307894 1367650438\n",
        "5 1343022072 1343022002\n",
        "6 1343027570 1342878801"
       ]
      },
      {
       "metadata": {},
       "output_type": "pyout",
       "prompt_number": 2,
       "text": [
        "      lnQC               lnSize            lnW              lnFl       \n",
        " Min.   :0.0000757   Min.   : 0.000   Min.   :0.0000   Min.   :0.0000  \n",
        " 1st Qu.:0.5235879   1st Qu.: 6.479   1st Qu.:0.6931   1st Qu.:0.0000  \n",
        " Median :0.6649763   Median : 7.595   Median :0.6931   Median :0.0000  \n",
        " Mean   :0.5942677   Mean   : 8.103   Mean   :0.7751   Mean   :0.5630  \n",
        " 3rd Qu.:0.6931472   3rd Qu.: 9.266   3rd Qu.:0.6931   3rd Qu.:0.6931  \n",
        " Max.   :0.6931472   Max.   :18.177   Max.   :6.9167   Max.   :5.9890  \n",
        "      lnFd             lnFr              lnDe            lnInt       \n",
        " Min.   :0.0000   Min.   :0.00000   Min.   : 1.792   Min.   : 0.000  \n",
        " 1st Qu.:0.0000   1st Qu.:0.00000   1st Qu.: 4.382   1st Qu.: 6.623  \n",
        " Median :0.0000   Median :0.00000   Median : 5.583   Median :14.959  \n",
        " Mean   :0.4333   Mean   :0.08116   Mean   : 5.986   Mean   :11.729  \n",
        " 3rd Qu.:0.6931   3rd Qu.:0.00000   3rd Qu.: 7.258   3rd Qu.:16.997  \n",
        " Max.   :4.8828   Max.   :8.57810   Max.   :15.136   Max.   :19.067  \n",
        "      from     \n",
        " Min.   :2009  \n",
        " 1st Qu.:2012  \n",
        " Median :2013  \n",
        " Mean   :2013  \n",
        " 3rd Qu.:2014  \n",
        " Max.   :2015  "
       ]
      }
     ],
     "prompt_number": 2
    },
    {
     "cell_type": "code",
     "collapsed": false,
     "input": [
      "library(rpart)\n",
      "final2.rpart1 = rpart(nFr ~ nQC, data = final2)\n",
      "printcp(final2.rpart1)\n",
      "plot(final2.rpart1, uniform = TRUE, main=\"Classification Tree of Quality Commits\")\n",
      "text(final2.rpart1, use.n = TRUE, cex = 0.60)"
     ],
     "language": "python",
     "metadata": {},
     "outputs": [
      {
       "output_type": "stream",
       "stream": "stdout",
       "text": [
        "\n",
        "Regression tree:\n",
        "rpart(formula = nFr ~ nQC, data = final2)\n",
        "\n",
        "Variables actually used in tree construction:\n",
        "[1] nQC\n",
        "\n",
        "Root node error: 30076192/178001 = 168.97\n",
        "\n",
        "n= 178001 \n",
        "\n",
        "        CP nsplit rel error xerror    xstd\n",
        "1 0.033504      0   1.00000  1.000 0.93853\n",
        "2 0.010000      4   0.86598  1.104 0.93926\n"
       ]
      },
      {
       "metadata": {},
       "output_type": "display_data",
       "png": "[encoded data removed]"
      },
      {
       "metadata": {},
       "output_type": "display_data",
       "png": "[encoded data removed]"
      }
     ],
     "prompt_number": 21
    },
    {
     "cell_type": "code",
     "collapsed": false,
     "input": [
      "#better, lets see correlations\n",
      "options(digits=2);\n",
      "cor(tv,method=\"spearman\");"
     ],
     "language": "python",
     "metadata": {},
     "outputs": [
      {
       "metadata": {},
       "output_type": "pyout",
       "prompt_number": 3,
       "text": [
        "         lnQC  lnSize      lnW   lnFl     lnFd   lnFr    lnDe  lnInt   from\n",
        "lnQC    1.000  0.0153  4.8e-02  0.049  5.7e-02  0.010 -0.1077  0.054 -0.103\n",
        "lnSize  0.015  1.0000 -1.3e-03  0.037  9.1e-03  0.055  0.7616 -0.068 -0.119\n",
        "lnW     0.048 -0.0013  1.0e+00  0.243 -7.3e-05  0.331 -0.0073  0.220 -0.046\n",
        "lnFl    0.049  0.0367  2.4e-01  1.000  4.6e-01  0.219 -0.0225  0.272 -0.243\n",
        "lnFd    0.057  0.0091 -7.3e-05  0.458  1.0e+00  0.045 -0.0345  0.084 -0.139\n",
        "lnFr    0.010  0.0549  3.3e-01  0.219  4.5e-02  1.000  0.0245  0.233 -0.169\n",
        "lnDe   -0.108  0.7616 -7.3e-03 -0.023 -3.5e-02  0.025  1.0000 -0.077 -0.046\n",
        "lnInt   0.054 -0.0681  2.2e-01  0.272  8.4e-02  0.233 -0.0767  1.000 -0.541\n",
        "from   -0.103 -0.1187 -4.6e-02 -0.243 -1.4e-01 -0.169 -0.0462 -0.541  1.000"
       ]
      }
     ],
     "prompt_number": 3
    },
    {
     "cell_type": "code",
     "collapsed": false,
     "input": [
      "#As we have seen eariler that delta is correlated with number of files, size, authors: leave only delta in\n",
      "# the model predicting if repository will have a fork\n",
      "\n",
      "tvf <- tv; # tvf$u=k$u;  # taking users from k data frame\n",
      "str(tvf);\n",
      "m <- glm(I(lnFr>0)~lnQC+lnSize+lnW+lnFl+lnFd+lnDe+lnInt+from,data=tvf);\n",
      "summary(m);"
     ],
     "language": "python",
     "metadata": {},
     "outputs": [
      {
       "output_type": "stream",
       "stream": "stdout",
       "text": [
        "'data.frame':\t178001 obs. of  9 variables:\n",
        " $ lnQC  : num  0.281 0.279 0.288 0.287 0.287 ...\n",
        " $ lnSize: num  6.75 10.71 5.64 11.3 10.32 ...\n",
        " $ lnW   : num  0.693 0 0.693 1.099 0.693 ...\n",
        " $ lnFl  : num  0 0 0 0.693 0.693 ...\n",
        " $ lnFd  : num  0 0 0 0 0 ...\n",
        " $ lnFr  : num  0 0 0 0 0 0 0 0 0 0 ...\n",
        " $ lnDe  : num  5.38 9.35 6.06 7.23 7.14 ...\n",
        " $ lnInt : num  15.51 17.24 0 17.59 4.26 ...\n",
        " $ from  : num  2015 2012 2013 2013 2013 ...\n"
       ]
      },
      {
       "metadata": {},
       "output_type": "pyout",
       "prompt_number": 5,
       "text": [
        "\n",
        "Call:\n",
        "glm(formula = I(lnFr > 0) ~ lnQC + lnSize + lnW + lnFl + lnFd + \n",
        "    lnDe + lnInt + from, data = tvf)\n",
        "\n",
        "Deviance Residuals: \n",
        "    Min       1Q   Median       3Q      Max  \n",
        "-1.1107  -0.0885  -0.0378  -0.0030   1.1611  \n",
        "\n",
        "Coefficients:\n",
        "             Estimate Std. Error t value Pr(>|t|)    \n",
        "(Intercept)  3.47e+01   9.79e-01   35.40  < 2e-16 ***\n",
        "lnQC        -3.70e-02   4.23e-03   -8.75  < 2e-16 ***\n",
        "lnSize       6.11e-03   4.54e-04   13.47  < 2e-16 ***\n",
        "lnW          2.29e-01   1.32e-03  173.64  < 2e-16 ***\n",
        "lnFl         3.32e-02   7.86e-04   42.26  < 2e-16 ***\n",
        "lnFd        -7.62e-03   8.61e-04   -8.85  < 2e-16 ***\n",
        "lnDe        -2.36e-03   4.71e-04   -5.01  5.4e-07 ***\n",
        "lnInt        2.52e-03   9.46e-05   26.69  < 2e-16 ***\n",
        "from        -1.73e-02   4.86e-04  -35.59  < 2e-16 ***\n",
        "---\n",
        "Signif. codes:  0 \u2018***\u2019 0.001 \u2018**\u2019 0.01 \u2018*\u2019 0.05 \u2018.\u2019 0.1 \u2018 \u2019 1\n",
        "\n",
        "(Dispersion parameter for gaussian family taken to be 0.055)\n",
        "\n",
        "    Null deviance: 12609.2  on 178000  degrees of freedom\n",
        "Residual deviance:  9761.5  on 177992  degrees of freedom\n",
        "AIC: -11633\n",
        "\n",
        "Number of Fisher Scoring iterations: 2\n"
       ]
      }
     ],
     "prompt_number": 5
    },
    {
     "cell_type": "code",
     "collapsed": false,
     "input": [
      "# the below results shows that Quality Commits, Followed, Delta are not explaining much variance\n",
      "anova(m)"
     ],
     "language": "python",
     "metadata": {},
     "outputs": []
    },
    {
     "cell_type": "code",
     "collapsed": false,
     "input": [
      "#lnQC\", \"lnSize\", \"lnW\", \"lnFl\",\"lnFd\", \"lnFr\", \"lnDe\",\"lnInt\",\"from\"\n",
      "\n",
      "library(rpart)\n",
      "tv.rpart1 = rpart(lnQC ~ lnFr + lnW + lnFl, data = tv)\n",
      "printcp(tv.rpart1)\n",
      "plot(tv.rpart1, uniform = TRUE)\n",
      "text(tv.rpart1, use.n = TRUE, cex = 0.75)\n",
      "#tree1 <- tree(activity ~ ., data=tv)\n",
      "#plot(tree1)\n",
      "#text(tree1,col=rainbow(5)[1:25],srt=85,cex=0.8)"
     ],
     "language": "python",
     "metadata": {},
     "outputs": [
      {
       "output_type": "stream",
       "stream": "stdout",
       "text": [
        "\n",
        "Regression tree:\n",
        "rpart(formula = lnQC ~ lnFr + lnW + lnFl, data = tv)\n",
        "\n",
        "Variables actually used in tree construction:\n",
        "character(0)\n",
        "\n",
        "Root node error: 3288.6/178001 = 0.018475\n",
        "\n",
        "n= 178001 \n",
        "\n",
        "         CP nsplit rel error xerror xstd\n",
        "1 0.0045987      0         1      0    0\n"
       ]
      },
      {
       "ename": "ERROR",
       "evalue": "Error in plot.rpart(tv.rpart1, uniform = TRUE): fit is not a tree, just a root\n",
       "output_type": "pyerr",
       "traceback": [
        "Error in plot.rpart(tv.rpart1, uniform = TRUE): fit is not a tree, just a root\n"
       ]
      },
      {
       "ename": "ERROR",
       "evalue": "Error in text.rpart(tv.rpart1, use.n = TRUE, cex = 0.75): fit is not a tree, just a root\n",
       "output_type": "pyerr",
       "traceback": [
        "Error in text.rpart(tv.rpart1, use.n = TRUE, cex = 0.75): fit is not a tree, just a root\n"
       ]
      }
     ],
     "prompt_number": 11
    },
    {
     "cell_type": "code",
     "collapsed": false,
     "input": [],
     "language": "python",
     "metadata": {},
     "outputs": []
    }
   ],
   "metadata": {}
  }
 ]
}